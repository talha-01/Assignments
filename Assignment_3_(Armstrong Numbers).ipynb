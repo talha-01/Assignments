{
 "cells": [
  {
   "cell_type": "code",
   "execution_count": 24,
   "metadata": {},
   "outputs": [
    {
     "output_type": "stream",
     "name": "stdout",
     "text": "121 is not an Armstrong number\n"
    }
   ],
   "source": [
    "number = input(\"Please a positive integer number _  \")\n",
    "results = { \n",
    "    0 : f'{number} is not an Armstrong number', \n",
    "    1 : f'{number} is an Armstrong number',\n",
    "    2 : 'Please enter a positive number',\n",
    "    3 : 'Please enter a integer number', \n",
    "    4: 'Do not use entries other than numeric values'\n",
    "    }\n",
    "\n",
    "if number[0] == '-':\n",
    "    print(results[2])\n",
    "elif number.count(',') + number.count('.') != 0:\n",
    "    print(results[3])\n",
    "elif not number.isnumeric():\n",
    "    print(results[4])\n",
    "else:\n",
    "    is_arm = 0\n",
    "    for i in number:\n",
    "        is_arm += int(i) ** len(number)\n",
    "    print(results[is_arm == int(number)])\n",
    "\n"
   ]
  },
  {
   "cell_type": "code",
   "execution_count": null,
   "metadata": {},
   "outputs": [],
   "source": [
    "while True:\n",
    "    number = input('Please enter a positive number _ ')\n",
    "    is_arm = 0\n",
    "    if number.count(',') + number.count('.') != 0:\n",
    "        print('Please enter an integer number')\n",
    "    elif number[0] == '-':\n",
    "        print('Please enter a positive number')\n",
    "    elif not number.isdigit():\n",
    "        print('Do not use any entries other than numeric values')\n",
    "    else: break\n",
    "for i in number:\n",
    "    is_arm += int(i) ** len(number)\n",
    "if is_arm == int(number):\n",
    "    print(number, 'is an Armstrong number')\n",
    "else:\n",
    "    print(number, 'is not an Armstrong number')"
   ]
  }
 ],
 "metadata": {
  "language_info": {
   "codemirror_mode": {
    "name": "ipython",
    "version": 3
   },
   "file_extension": ".py",
   "mimetype": "text/x-python",
   "name": "python",
   "nbconvert_exporter": "python",
   "pygments_lexer": "ipython3",
   "version": "3.8.2-final"
  },
  "orig_nbformat": 2,
  "kernelspec": {
   "name": "python38232bitbc75585ea5a4422f9339869f78ad8c64",
   "display_name": "Python 3.8.2 32-bit"
  }
 },
 "nbformat": 4,
 "nbformat_minor": 2
}