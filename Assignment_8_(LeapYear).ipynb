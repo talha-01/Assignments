{
 "cells": [
  {
   "cell_type": "code",
   "execution_count": 33,
   "metadata": {},
   "outputs": [
    {
     "output_type": "stream",
     "name": "stdout",
     "text": "2020 is a leap year\n"
    }
   ],
   "source": [
    "year = int(input(\"Please enter a year _ \"))\n",
    "if not year % 400:\n",
    "    print(f'{year} is a leap year')\n",
    "elif not year % 100:\n",
    "    print(f'{year} is not a leap year')\n",
    "elif not year % 4:\n",
    "    print(f'{year} is a leap year')\n",
    "else:\n",
    "    print(f'{year} is not a leap year')\n",
    "\n",
    "\n",
    "\n",
    "# bool(year%400) or not bool(year%100) or bool(year%4)"
   ]
  },
  {
   "cell_type": "code",
   "execution_count": 1,
   "metadata": {},
   "outputs": [
    {
     "output_type": "stream",
     "name": "stdout",
     "text": "1800 is not a leap year\n"
    }
   ],
   "source": [
    "year = 1800\n",
    "is_leap = ['not a', 'a']\n",
    "print(f'{year} is {is_leap[year%400 == 0 or (not year%100 == 0 and year%4 == 0)]} leap year')"
   ]
  },
  {
   "cell_type": "code",
   "execution_count": null,
   "metadata": {},
   "outputs": [],
   "source": [
    "for year in range(1, 2021):\n",
    "    print(f'{year} is {is_leap[year%400 == 0 or (not year%100 == 0 and year%4 == 0)]} leap year')"
   ]
  },
  {
   "cell_type": "code",
   "execution_count": null,
   "metadata": {},
   "outputs": [],
   "source": []
  }
 ],
 "metadata": {
  "language_info": {
   "codemirror_mode": {
    "name": "ipython",
    "version": 3
   },
   "file_extension": ".py",
   "mimetype": "text/x-python",
   "name": "python",
   "nbconvert_exporter": "python",
   "pygments_lexer": "ipython3",
   "version": "3.8.2-final"
  },
  "orig_nbformat": 2,
  "kernelspec": {
   "name": "python38232bitbc75585ea5a4422f9339869f78ad8c64",
   "display_name": "Python 3.8.2 32-bit"
  }
 },
 "nbformat": 4,
 "nbformat_minor": 2
}