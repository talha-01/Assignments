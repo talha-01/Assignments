{
 "cells": [
  {
   "cell_type": "code",
   "execution_count": 5,
   "metadata": {},
   "outputs": [
    {
     "output_type": "execute_result",
     "data": {
      "text/plain": "{'u': 2,\n 'r': 1,\n 't': 1,\n '!': 1,\n 'n': 1,\n 'o': 2,\n ' ': 3,\n 'i': 1,\n 'p': 2,\n 's': 2,\n 'h': 1}"
     },
     "metadata": {},
     "execution_count": 5
    }
   ],
   "source": [
    "sentence = input(\"Please enter a sentence _ \")\n",
    "{ch:sentence.lower().count(ch) for ch in set(sentence.lower())}\n",
    "\n"
   ]
  }
 ],
 "metadata": {
  "language_info": {
   "codemirror_mode": {
    "name": "ipython",
    "version": 3
   },
   "file_extension": ".py",
   "mimetype": "text/x-python",
   "name": "python",
   "nbconvert_exporter": "python",
   "pygments_lexer": "ipython3",
   "version": "3.7.6-final"
  },
  "orig_nbformat": 2,
  "kernelspec": {
   "name": "python3",
   "display_name": "Python 3"
  }
 },
 "nbformat": 4,
 "nbformat_minor": 2
}