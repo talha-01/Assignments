{
 "cells": [
  {
   "cell_type": "code",
   "execution_count": 3,
   "metadata": {},
   "outputs": [
    {
     "output_type": "stream",
     "name": "stdout",
     "text": "You are not in risky group\n"
    }
   ],
   "source": [
    "age = input(\"Are you a cigaratte addict older than 75 years old? (Yes/No)\").lower().strip() == \"yes\"\n",
    "\n",
    "chronic = input(\"Do you have a severe chronic disease? : (Yes/No)\").lower().strip() == \"yes\"\n",
    "\n",
    "immune = input(\"Is your immune system too weak? : (Yes/No)\").lower().strip() == \"yes\"\n",
    "\n",
    "if age or chronic or immune :\n",
    "    print(\"You are in risky group\")\n",
    "else :\n",
    "    print(\"You are not in risky group\")"
   ]
  },
  {
   "cell_type": "code",
   "execution_count": null,
   "metadata": {},
   "outputs": [],
   "source": []
  }
 ],
 "metadata": {
  "language_info": {
   "codemirror_mode": {
    "name": "ipython",
    "version": 3
   },
   "file_extension": ".py",
   "mimetype": "text/x-python",
   "name": "python",
   "nbconvert_exporter": "python",
   "pygments_lexer": "ipython3",
   "version": "3.8.2-final"
  },
  "orig_nbformat": 2,
  "kernelspec": {
   "name": "python38232bitbc75585ea5a4422f9339869f78ad8c64",
   "display_name": "Python 3.8.2 32-bit"
  }
 },
 "nbformat": 4,
 "nbformat_minor": 2
}